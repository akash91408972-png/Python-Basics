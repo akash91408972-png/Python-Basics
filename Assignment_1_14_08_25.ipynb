{
  "nbformat": 4,
  "nbformat_minor": 0,
  "metadata": {
    "colab": {
      "provenance": []
    },
    "kernelspec": {
      "name": "python3",
      "display_name": "Python 3"
    },
    "language_info": {
      "name": "python"
    }
  },
  "cells": [
    {
      "cell_type": "markdown",
      "source": [
        "# Python Basics - Theory Questions"
      ],
      "metadata": {
        "id": "ddoGJTkswGc5"
      }
    },
    {
      "cell_type": "markdown",
      "source": [
        "1. What is Python, and why is it popular?\n",
        "\n",
        "  - Python is a case-sensitive, high-level programming language that uses keywords (predefined words with special meaning), supports various predefined data types (integers, floats, strings, booleans, complex numbers, None), and uses indentation instead of braces for code blocks. It allows variables to store values without explicit type declarations, supports type casting (e.g., int(), float(), str()), and makes it easy to work with input/output.\n",
        "\n",
        "       Why Python is popular:\n",
        "\n",
        "      Readable & simple syntax – Indentation and straightforward statements make it beginner-friendly.\n",
        "\n",
        "      Flexible typing – No need to declare variable types explicitly.\n",
        "\n",
        "      Rich standard library – Many built-in functions and keywords to perform tasks quickly.\n",
        "\n",
        "      Versatility – Works for data science, web development, automation, and more.\n",
        "\n",
        "      Interactive learning – You can try code directly in the interpreter for instant feedback.\n",
        "\n",
        "      Huge active community – A large network of developers constantly contributing to its growth and support.\n",
        "2. What is an interpreter in Python?\n",
        "  - Interpreter in Python\n",
        "    An interpreter in Python is the software that runs our Python programs.\n",
        "    It takes our code and reads it line by line, then runs it right away.\n",
        "    We don’t have to compile the program first like in some other languages.\n",
        "\n",
        "    This makes it easy for beginners because:\n",
        "\n",
        "    We can write and test code quickly.\n",
        "\n",
        "    We can try small pieces of code in the Python shell and see results instantly.\n",
        "\n",
        "    If there’s an error, Python will show it immediately so we can fix it.\n",
        "\n",
        "\n",
        "3. What are pre-defined keywords in Python?\n",
        "   - Pre-defined keywords in Python are special words that already have a meaning in Python. We cannot use them as names for variables or functions because Python uses them for its own rules and commands.\n",
        "   Here is a list of the Python keywords.  \n",
        "\n",
        "    False               class               from                or\n",
        "    None                continue            global              pass\n",
        "    True                def                 if                  raise\n",
        "    and                 del                 import              return\n",
        "    as                  elif                in                  try\n",
        "    assert              else                is                  while\n",
        "    async               except              lambda              with\n",
        "    await               finally             nonlocal            yield\n",
        "    break               for                 not\n",
        "\n",
        "4. Can keywords be used as variable names?\n",
        "   - No, keywords cannot be used as variable names in Python.\n",
        "\n",
        "     This is because keywords have special meaning for Python’s syntax, and if we try to use them as variable names, the interpreter will give an error.  \n",
        "\n",
        "5. What is mutability in Python?\n",
        "   - Objects/container whose state or value can be changed after they are   created are called as mutable objects or container,\n",
        "\n",
        "    list is a type of mutable object/supports item assignment\n",
        "\n",
        "    Mutability in Python means whether the value of an object can be changed after it is created.\n",
        "\n",
        "    If an object can be changed → it is mutable.\n",
        "\n",
        "    If an object cannot be changed → it is immutable.\n",
        "\n",
        "    Examples:\n",
        "\n",
        "    Mutable objects (can change):\n",
        "\n",
        "    list\n",
        "\n",
        "    dict\n",
        "\n",
        "    set\n",
        "\n",
        "    my_list = [1, 2, 3]\n",
        "    my_list[0] = 10    # Changed the first element\n",
        "    print(my_list)     # [10, 2, 3]\n",
        "\n",
        "6. Why are lists mutable, but tuples are immutable?\n",
        "   - A list in Python is mutable because Python allows you to change, add, or     remove items from it after it is created. This is useful when you need to store data that might change later.\n",
        "\n",
        "    Example:\n",
        "\n",
        "    fruits = [\"apple\", \"banana\", \"orange\"]\n",
        "    fruits[1] = \"mango\"   # changed banana to mango\n",
        "    print(fruits)         # ['apple', 'mango', 'orange']\n",
        "\n",
        "    A tuple is immutable because once it is created, Python does not allow changing its items. This is helpful when you want your data to stay fixed and safe from accidental changes.\n",
        "\n",
        "    Example:\n",
        "\n",
        "    colors = (\"red\", \"green\", \"blue\")\n",
        "    colors[1] = \"yellow\"   #Error: 'tuple' object does not support item assignment\n",
        "\n",
        "    Analogy:\n",
        "\n",
        "    Tuple → Aadhaar number (permanent, fixed)\n",
        "\n",
        "    List → Shopping list (changeable anytime)\n",
        "\n",
        "7. What is the difference between “==” and “is” operators in Python?\n",
        "   - i). == operator → Checks value equality(# Comparison operator >> compare   two values>> return a boolean value)\n",
        "\n",
        "    It looks at whether the contents/values of two variables are the same.\n",
        "\n",
        "    Even if they are stored in different memory locations, == can still return True if values match.\n",
        "\n",
        "    Example:\n",
        "\n",
        "    a = [1, 2, 3]\n",
        "    b = [1, 2, 3]\n",
        "\n",
        "    print(a == b)  # True (values are same)\n",
        "\n",
        "  - ii). is operator → Checks identity (same memory location)(#identity operator >> compare the memory location of two object)\n",
        "\n",
        "    It checks whether both variables point to the exact same object in memory.\n",
        "\n",
        "    Even if the values are same, is will be False if they are stored in different places.\n",
        "\n",
        "    Example:\n",
        "\n",
        "    a = [1, 2, 3]\n",
        "    b = [1, 2, 3]\n",
        "\n",
        "    print(a is b)  # False (different objects in memory)\n",
        "8. What are logical operators in Python?\n",
        "   - i). and → Returns True if both conditions are true\n",
        "    x = 5\n",
        "    print(x > 2 and x < 10)   # True (both conditions are True)\n",
        "\n",
        "   - ii). or → Returns True if at least one condition is true\n",
        "    x = 5\n",
        "    print(x > 10 or x < 10)   # True (second condition is True)\n",
        "\n",
        "  - iii). not → Reverses the Boolean result\n",
        "    x = True\n",
        "    print(not x)   # False (opposite of True)\n",
        "\n",
        "\n",
        "\n",
        "\n",
        "![image.png](data:image/png;base64,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)\n",
        "\n",
        "9. What is type casting in Python?\n",
        "   - Type casting / Type conversion >>\n",
        "    The process of changing the data type of a value/object\n",
        "\n",
        "    Why? >>\n",
        "    While executing or doing computation using operators, there can be mismatch between the datatypes.\n",
        "    Example: You cannot directly add string and integer — must convert one to match.\n",
        "\n",
        "    Example 1: String to Integer\n",
        "    a = \"2\"\n",
        "    b = 3\n",
        "    print(int(a) + b)  # Output: 5\n",
        "\n",
        "    Example 2: Float to Integer\n",
        "    x = 3.9\n",
        "    print(int(x))      # Output: 3\n",
        "   \n",
        "    Example 3: Integer to Float\n",
        "    y = 5\n",
        "    print(float(y))    # Output: 5.0\n",
        "\n",
        "    Example 4: String to Float\n",
        "    z = \"4.5\"\n",
        "    print(float(z))    # Output: 4.5\n",
        "\n",
        "    Example 5: Integer to String\n",
        "    m = 100\n",
        "    print(str(m) + \" Ajay\")  # Output: '100 Ajay'\n",
        "\n",
        "    Example 6: Boolean conversion\n",
        "    print(bool(0))   # False\n",
        "    print(bool(1))   # True\n",
        "\n",
        "\n",
        "10. What is the difference between implicit and explicit type casting?\n",
        "    - i).Implicit Type Casting >>\n",
        "    Done automatically by Python (int + float → float)\n",
        "    print(2 + 3.5)   # Output: 5.5\n",
        "\n",
        "    - ii).Explicit Type Casting >>\n",
        "    Done manually using int(), float(), str(), bool()\n",
        "    print(int(\"2\") + 3)  # 5\n",
        "\n",
        "      Implicit → no errors, Explicit → can error if invalid (int(\"Ajay\")).\n",
        "\n",
        "\n",
        "11. What is the purpose of conditional statements in Python?\n",
        "    - Purpose of Conditional Statements in Python\n",
        "\n",
        "      Conditional statements are used to check some conditions and run different code based on True or False.\n",
        "      They help the program take decisions.\n",
        "\n",
        "      Example:\n",
        "\n",
        "     age = 18\n",
        "     if age >= 18:\n",
        "     print(\"You can vote\")\n",
        "     else:\n",
        "     print(\"You cannot vote\")\n",
        "\n",
        "     If the condition is true, first block runs, otherwise the else block runs.\n",
        "\n",
        "12. How does the elif statement work?\n",
        "    - The `elif` statement, which stands for \"else if,\" works by providing an additional condition to check if the preceding `if` and any previous `elif` conditions are all false. It is used to handle multiple exclusive conditions in a single block of code.\n",
        "\n",
        "      Here's how it works in a sequence:\n",
        "\n",
        "      i).  The program first checks the condition of the initial `if` statement.\n",
        "      ii).  If the `if` condition is `True`, the code inside its block is executed, and the entire `if`-`elif`-`else` block is then skipped.\n",
        "      iii). If the `if` condition is `False`, the program moves on to the `elif` statement and checks its condition.\n",
        "      iv).  If the `elif` condition is `True`, the code within its block is executed, and the rest of the block is skipped.\n",
        "      v).   You can have multiple `elif` statements, and the program will check them one after another until it finds a condition that is `True`.\n",
        "     vi).  If all `if` and `elif` conditions are `False`, the code within the optional `else` statement is executed.\n",
        "\n",
        "       This sequential checking ensures that only one block of code from the entire conditional chain is ever executed.\n",
        "\n",
        "\n",
        "13. What is the difference between for and while loops?\n",
        "    - Difference between for loop and while loop\n",
        "\n",
        "      A for loop is used when we already know how many times we want to repeat something or when we are going through items in a sequence like a list, string, or range.\n",
        "      \n",
        "      > $Example:\n",
        "       for i in range(3):\n",
        "       print(\"Hello\")  # Runs exactly 3 times\n",
        "\n",
        "       A while loop is used when we don’t know the exact number of repetitions and want to keep repeating as long as a condition is true.\n",
        "\n",
        "     > $Example:\n",
        "\n",
        "       count = 0\n",
        "       while count < 3:\n",
        "       print(\"Hello\")\n",
        "       count += 1  # Runs until the condition becomes False\n",
        "\n",
        "       In short, for is best for fixed or sequence-based loops, and while is best for condition-based loops.\n",
        "\n",
        "14. Describe a scenario where a while loop is more suitable than a for loop.\n",
        "    - while loop is more suitable when you don’t know in advance how many   times the loop will run, and the repetition depends on a condition that changes while the program runs.\n",
        "\n",
        "       Example scenario:\n",
        "       Imagine you are building a simple login system where the user has unlimited attempts until they enter the correct password.\n",
        "\n",
        "       password = \"python123\"\n",
        "       user_input = \"\"\n",
        "\n",
        "       while user_input != password:\n",
        "       user_input = input(\"Enter password: \")\n",
        "       print(\"Access granted\")\n",
        "\n",
        "      Here, we don’t know how many times the user will try.\n",
        "      loop continues until the correct password is entered — making while the perfect choice.\n",
        "\n"
      ],
      "metadata": {
        "id": "bULiUe5zb-50"
      }
    },
    {
      "cell_type": "markdown",
      "source": [
        "# Python Basics - Practical Questions"
      ],
      "metadata": {
        "id": "_eycjnL9Nusi"
      }
    },
    {
      "cell_type": "code",
      "source": [
        "# 1.Write a Python program to print \"Hello, World!\"\n",
        "# This program prints Hello, World!\n",
        "print(\"Hello, World!\")"
      ],
      "metadata": {
        "id": "-Y-_8CrLGs0P",
        "colab": {
          "base_uri": "https://localhost:8080/"
        },
        "collapsed": true,
        "outputId": "e5690b2a-65e5-4c11-884e-fb727573aef4"
      },
      "execution_count": 1,
      "outputs": [
        {
          "output_type": "stream",
          "name": "stdout",
          "text": [
            "Hello, World!\n"
          ]
        }
      ]
    },
    {
      "cell_type": "code",
      "source": [
        "# 2.Write a Python program that displays your name and age.\n",
        "# This program displays my name and age\n",
        "name = \"Akash\"\n",
        "age = 25\n",
        "\n",
        "print(\"My name is\", name)\n",
        "print(\"I am\", age, \"years old\")"
      ],
      "metadata": {
        "colab": {
          "base_uri": "https://localhost:8080/"
        },
        "id": "A0Fjuqq1bYit",
        "outputId": "4439dc85-7a7f-442e-f9c2-cf01a9fdde02",
        "collapsed": true
      },
      "execution_count": 2,
      "outputs": [
        {
          "output_type": "stream",
          "name": "stdout",
          "text": [
            "My name is Akash\n",
            "I am 25 years old\n"
          ]
        }
      ]
    },
    {
      "cell_type": "code",
      "source": [
        "# 3. Write code to print all the pre-defined keywords in Python using the keyword library.\n",
        "import keyword\n",
        "\n",
        "# Get the list of all Python keywords\n",
        "all_keywords = keyword.kwlist\n",
        "\n",
        "# Print each keyword\n",
        "print(\"Python Keywords:\")\n",
        "for kw in all_keywords:\n",
        "    print(kw,end=\",\")"
      ],
      "metadata": {
        "id": "ObXy02EKc0fi",
        "outputId": "a9623cd6-a31a-4d66-996d-269296c499fb",
        "colab": {
          "base_uri": "https://localhost:8080/"
        },
        "collapsed": true
      },
      "execution_count": 12,
      "outputs": [
        {
          "output_type": "stream",
          "name": "stdout",
          "text": [
            "Python Keywords:\n",
            "False,None,True,and,as,assert,async,await,break,class,continue,def,del,elif,else,except,finally,for,from,global,if,import,in,is,lambda,nonlocal,not,or,pass,raise,return,try,while,with,yield,"
          ]
        }
      ]
    },
    {
      "cell_type": "code",
      "source": [
        "# 4.Write a program that checks if a given word is a Python keyword.\n",
        "import keyword\n",
        "\n",
        "# Take input from the user\n",
        "word = input(\"Enter a word: \")\n",
        "\n",
        "# Check if it is a Python keyword\n",
        "if keyword.iskeyword(word):\n",
        "    print(f\"'{word}' is a Python keyword.\")\n",
        "else:\n",
        "    print(f\"'{word}' is NOT a Python keyword.\")\n"
      ],
      "metadata": {
        "id": "aZrDGSDBS_fn"
      },
      "execution_count": null,
      "outputs": []
    },
    {
      "cell_type": "code",
      "source": [
        "# 5.Create a list and tuple in Python, and demonstrate how attempting to change an element works differently for each.\n",
        "my_list = [10, 20, 30]\n",
        "my_tuple = (10, 20, 30)\n",
        "\n",
        "# Modifying a list element\n",
        "print(\"Original list:\", my_list)\n",
        "my_list[1] = 200\n",
        "print(\"Modified list:\", my_list)\n",
        "\n",
        "# Attempting to modify a tuple element\n",
        "print(\"\\nOriginal tuple:\", my_tuple)\n",
        "try:\n",
        "    my_tuple[1] = 200\n",
        "except TypeError as e:\n",
        "    print(\"Error:\", e)\n"
      ],
      "metadata": {
        "id": "PDRC07P2TASP"
      },
      "execution_count": null,
      "outputs": []
    },
    {
      "cell_type": "code",
      "source": [
        "# 6.Write a function to demonstrate the behavior of mutable and immutable arguments.\n",
        "# Function that tries to modify its arguments\n",
        "def modify_values(num, my_list):\n",
        "    # Immutable argument (int)\n",
        "    num += 10  # Creates a new integer object\n",
        "    # Mutable argument (list)\n",
        "    my_list.append(4)  # Modifies the same list object\n",
        "\n",
        "    print(\"Inside function:\")\n",
        "    print(\"num =\", num)\n",
        "    print(\"my_list =\", my_list)\n",
        "\n",
        "# Immutable type (integer)\n",
        "x = 5\n",
        "# Mutable type (list)\n",
        "lst = [1, 2, 3]\n",
        "\n",
        "print(\"Before function call:\")\n",
        "print(\"x =\", x)\n",
        "print(\"lst =\", lst)\n",
        "\n",
        "# Function call\n",
        "modify_values(x, lst)\n",
        "\n",
        "print(\"\\nAfter function call:\")\n",
        "print(\"x =\", x)        # Unchanged\n",
        "print(\"lst =\", lst)    # Changed\n"
      ],
      "metadata": {
        "colab": {
          "base_uri": "https://localhost:8080/"
        },
        "collapsed": true,
        "id": "w9ifkRsATA7h",
        "outputId": "e1beaf81-f7d0-4a0c-823d-650aadc7677b"
      },
      "execution_count": 5,
      "outputs": [
        {
          "output_type": "stream",
          "name": "stdout",
          "text": [
            "Before function call:\n",
            "x = 5\n",
            "lst = [1, 2, 3]\n",
            "Inside function:\n",
            "num = 15\n",
            "my_list = [1, 2, 3, 4]\n",
            "\n",
            "After function call:\n",
            "x = 5\n",
            "lst = [1, 2, 3, 4]\n"
          ]
        }
      ]
    },
    {
      "cell_type": "code",
      "source": [
        "# 7.Write a program that performs basic arithmetic operations on two user-input numbers.\n",
        "# Basic Arithmetic Operations Program\n",
        "\n",
        "# Take user inputs\n",
        "num1 = float(input(\"Enter first number: \"))\n",
        "num2 = float(input(\"Enter second number: \"))\n",
        "\n",
        "print(\"\\n--- Results ---\")\n",
        "\n",
        "# Addition\n",
        "print(f\"{num1} + {num2} = {num1 + num2}\")\n",
        "\n",
        "# Subtraction\n",
        "print(f\"{num1} - {num2} = {num1 - num2}\")\n",
        "\n",
        "# Multiplication\n",
        "print(f\"{num1} × {num2} = {num1 * num2}\")\n",
        "\n",
        "# Division (check for zero)\n",
        "if num2 != 0:\n",
        "    print(f\"{num1} ÷ {num2} = {num1 / num2}\")\n",
        "else:\n",
        "    print(\"Division not possible (cannot divide by zero).\")"
      ],
      "metadata": {
        "colab": {
          "base_uri": "https://localhost:8080/"
        },
        "id": "smm5kcJOhwGE",
        "outputId": "1d6b270d-fade-498b-c4ff-75622bb4357b",
        "collapsed": true
      },
      "execution_count": 6,
      "outputs": [
        {
          "output_type": "stream",
          "name": "stdout",
          "text": [
            "Enter first number: 3\n",
            "Enter second number: 4.5\n",
            "\n",
            "--- Results ---\n",
            "3.0 + 4.5 = 7.5\n",
            "3.0 - 4.5 = -1.5\n",
            "3.0 × 4.5 = 13.5\n",
            "3.0 ÷ 4.5 = 0.6666666666666666\n"
          ]
        }
      ]
    },
    {
      "cell_type": "code",
      "source": [
        "# 8.Write a program to demonstrate the use of logical operators.\n",
        "# Take two boolean inputs\n",
        "a = True\n",
        "b = False\n",
        "\n",
        "print(\"a =\", a)\n",
        "print(\"b =\", b)\n",
        "\n",
        "# Demonstrating logical operators\n",
        "print(\"\\nLogical AND (a and b):\", a and b)\n",
        "print(\"Logical OR (a or b):\", a or b)\n",
        "print(\"Logical NOT (not a):\", not a)\n",
        "print(\"Logical NOT (not b):\", not b)\n",
        "\n",
        "# Example with conditions\n",
        "x = 10\n",
        "y = 5\n",
        "print(\"\\nExample with numbers:\")\n",
        "print(\"x > 5 and y < 10:\", x > 5 and y < 10)  # True and True → True\n",
        "print(\"x > 15 or y < 10:\", x > 15 or y < 10)  # False or True → True\n",
        "print(\"not(x > 5):\", not (x > 5))             # not(True) → False\n"
      ],
      "metadata": {
        "colab": {
          "base_uri": "https://localhost:8080/"
        },
        "collapsed": true,
        "id": "I1P3nyIgpSdE",
        "outputId": "d6712357-1a27-4539-a9c3-919e589434e4"
      },
      "execution_count": 7,
      "outputs": [
        {
          "output_type": "stream",
          "name": "stdout",
          "text": [
            "a = True\n",
            "b = False\n",
            "\n",
            "Logical AND (a and b): False\n",
            "Logical OR (a or b): True\n",
            "Logical NOT (not a): False\n",
            "Logical NOT (not b): True\n",
            "\n",
            "Example with numbers:\n",
            "x > 5 and y < 10: True\n",
            "x > 15 or y < 10: True\n",
            "not(x > 5): False\n"
          ]
        }
      ]
    },
    {
      "cell_type": "code",
      "source": [
        "# 9.Write a Python program to convert user input from string to integer, float, and boolean types.\n",
        "x = input(\"Enter a value: \")\n",
        "\n",
        "print(\"As Integer:\", int(x))\n",
        "print(\"As Float:\", float(x))\n",
        "print(\"As Boolean:\", bool(x))\n"
      ],
      "metadata": {
        "colab": {
          "base_uri": "https://localhost:8080/"
        },
        "id": "0oKgn5NfpSLu",
        "outputId": "64a1eaa2-e4bf-4b4a-8bde-0f5f54a341cb"
      },
      "execution_count": 11,
      "outputs": [
        {
          "output_type": "stream",
          "name": "stdout",
          "text": [
            "Enter a value: 3\n",
            "As Integer: 3\n",
            "As Float: 3.0\n",
            "As Boolean: True\n"
          ]
        }
      ]
    },
    {
      "cell_type": "code",
      "source": [
        "# 10.Write code to demonstrate type casting with list elements.\n",
        "# Original list with string numbers\n",
        "data = [\"10\", \"20\", \"30\", \"40.5\"]\n",
        "\n",
        "print(\"Original list:\", data)\n",
        "\n",
        "# Convert each element to integer (if possible)\n",
        "int_list = [int(float(i)) for i in data]\n",
        "print(\"As Integers:\", int_list)\n",
        "\n",
        "# Convert each element to float\n",
        "float_list = [float(i) for i in data]\n",
        "print(\"As Floats:\", float_list)\n",
        "\n",
        "# Convert each element to boolean\n",
        "bool_list = [bool(i) for i in data]\n",
        "print(\"As Booleans:\", bool_list)\n"
      ],
      "metadata": {
        "colab": {
          "base_uri": "https://localhost:8080/"
        },
        "collapsed": true,
        "id": "gFlHJp6HpR2l",
        "outputId": "467f2313-c72e-4ffc-cb7c-ce43f621f045"
      },
      "execution_count": 13,
      "outputs": [
        {
          "output_type": "stream",
          "name": "stdout",
          "text": [
            "Original list: ['10', '20', '30', '40.5']\n",
            "As Integers: [10, 20, 30, 40]\n",
            "As Floats: [10.0, 20.0, 30.0, 40.5]\n",
            "As Booleans: [True, True, True, True]\n"
          ]
        }
      ]
    },
    {
      "cell_type": "code",
      "source": [
        "# 11.Write a program that checks if a number is positive, negative, or zero.\n",
        "# Take input from the user\n",
        "num = float(input(\"Enter a number: \"))\n",
        "\n",
        "# Check if positive, negative, or zero\n",
        "if num > 0:\n",
        "    print(\"The number is Positive.\")\n",
        "elif num < 0:\n",
        "    print(\"The number is Negative.\")\n",
        "else:\n",
        "    print(\"The number is Zero.\")\n"
      ],
      "metadata": {
        "id": "yYi5bKbHpRy2"
      },
      "execution_count": null,
      "outputs": []
    },
    {
      "cell_type": "code",
      "source": [
        "# 12.Write a for loop to print numbers from 1 to 10.\n",
        "for i in range(1, 11):\n",
        "    print(i)\n"
      ],
      "metadata": {
        "id": "r0lndYvCpRwQ"
      },
      "execution_count": null,
      "outputs": []
    },
    {
      "cell_type": "code",
      "source": [
        " # 13.Write a Python program to find the sum of all even numbers between 1 and 50.\n",
        " total = 0\n",
        "\n",
        "for i in range(1, 51):\n",
        "    if i % 2 == 0:  # Check if even\n",
        "        total += i\n",
        "\n",
        "print(\"Sum of even numbers between 1 and 50:\", total)\n"
      ],
      "metadata": {
        "colab": {
          "base_uri": "https://localhost:8080/"
        },
        "id": "Mb1do_WopRtf",
        "outputId": "73a04333-b8db-4717-b95e-77237f60287f"
      },
      "execution_count": 16,
      "outputs": [
        {
          "output_type": "stream",
          "name": "stdout",
          "text": [
            "Sum of even numbers between 1 and 50: 650\n"
          ]
        }
      ]
    },
    {
      "cell_type": "code",
      "source": [
        "# 14. Write a program to reverse a string using a while loop.\n",
        "# Take input from user\n",
        "text = input(\"Enter a string: \")\n",
        "\n",
        "# Initialize variables\n",
        "reversed_text = \"\"\n",
        "i = len(text) - 1\n",
        "\n",
        "# Reverse using while loop\n",
        "while i >= 0:\n",
        "    reversed_text += text[i]\n",
        "    i -= 1\n",
        "\n",
        "print(\"Reversed string:\", reversed_text)\n",
        "\n"
      ],
      "metadata": {
        "id": "CAAHOI75pRrY"
      },
      "execution_count": null,
      "outputs": []
    },
    {
      "cell_type": "code",
      "source": [
        "# 15. Write a Python program to calculate the factorial of a number provided by the user using a while loop.\n",
        "num = int(input(\"Enter a number: \"))\n",
        "\n",
        "factorial = 1\n",
        "i = 1\n",
        "\n",
        "while i <= num:\n",
        "    factorial *= i\n",
        "    i += 1\n",
        "\n",
        "print(\"Factorial of\", num, \"is\", factorial)\n"
      ],
      "metadata": {
        "colab": {
          "base_uri": "https://localhost:8080/"
        },
        "id": "CZ2ZOXo7pRoq",
        "outputId": "4eb54f21-ef36-40dd-d372-30ca1dd5f3c1"
      },
      "execution_count": 20,
      "outputs": [
        {
          "output_type": "stream",
          "name": "stdout",
          "text": [
            "Enter a number: 8\n",
            "Factorial of 8 is 40320\n"
          ]
        }
      ]
    },
    {
      "cell_type": "code",
      "source": [],
      "metadata": {
        "id": "v0xKxr7epRmS"
      },
      "execution_count": null,
      "outputs": []
    },
    {
      "cell_type": "code",
      "source": [],
      "metadata": {
        "id": "sEb3XTxfpRkn"
      },
      "execution_count": null,
      "outputs": []
    },
    {
      "cell_type": "code",
      "source": [],
      "metadata": {
        "id": "eEP5ExFlpRh5"
      },
      "execution_count": null,
      "outputs": []
    },
    {
      "cell_type": "code",
      "source": [],
      "metadata": {
        "id": "nXCFcGUKpRfH"
      },
      "execution_count": null,
      "outputs": []
    },
    {
      "cell_type": "code",
      "source": [],
      "metadata": {
        "id": "ppyp--MIpRcS"
      },
      "execution_count": null,
      "outputs": []
    },
    {
      "cell_type": "code",
      "source": [],
      "metadata": {
        "id": "acSlzO_mpRIJ"
      },
      "execution_count": null,
      "outputs": []
    },
    {
      "cell_type": "markdown",
      "source": [],
      "metadata": {
        "id": "3NWj7IOc1m7l"
      }
    }
  ]
}